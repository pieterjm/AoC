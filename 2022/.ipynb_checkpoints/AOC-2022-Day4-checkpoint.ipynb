{
 "cells": [
  {
   "cell_type": "markdown",
   "id": "bd2ee241",
   "metadata": {},
   "source": [
    " # Advent of Code 2022, Day 3\n",
    " \n",
    " ## Part 1\n"
   ]
  },
  {
   "cell_type": "code",
   "execution_count": 43,
   "id": "4336eb11",
   "metadata": {},
   "outputs": [
    {
     "data": {
      "text/plain": [
       "7674"
      ]
     },
     "execution_count": 43,
     "metadata": {},
     "output_type": "execute_result"
    }
   ],
   "source": [
    "# solution for part 1\n",
    "import pandas as pd\n",
    "df=pd.read_csv('inputDay3.dat', sep=' ', names=['rucksack'], header=None, skip_blank_lines=True)\n",
    "df['one'] = df.apply(lambda row: row.rucksack[:int(len(row.rucksack)/2)], axis=1)\n",
    "df['two'] = df.apply(lambda row: row.rucksack[int(len(row.rucksack)/2):], axis=1)\n",
    "df['common'] = df.apply(lambda row: (set(row.one) & set(row.two)).pop(), axis=1)\n",
    "df['priority'] = df.apply(lambda row: ord(row.common) - 96  if ord(row.common) > 90 else ord(row.common) - 38, axis=1)\n",
    "df['priority'].sum()\n"
   ]
  },
  {
   "cell_type": "markdown",
   "id": "970eab58",
   "metadata": {},
   "source": [
    "## Part 2\n"
   ]
  },
  {
   "cell_type": "code",
   "execution_count": 10,
   "id": "1f4a8ea2",
   "metadata": {},
   "outputs": [
    {
     "data": {
      "text/plain": [
       "2805"
      ]
     },
     "execution_count": 10,
     "metadata": {},
     "output_type": "execute_result"
    }
   ],
   "source": [
    "# solution for part 2\n",
    "import pandas as pd\n",
    "df=pd.read_csv('inputDay3.dat', sep=' ', names=['one'], header=None, skip_blank_lines=True)\n",
    "df['two'], df['three'] = [df['one'].shift(-1), df['one'].shift(-2)]\n",
    "df = df.iloc[::3]\n",
    "df['common'] = df.apply(lambda row: (set(row.one) & set(row.two) & set(row.three)).pop(), axis = 1)\n",
    "df['priority'] = df.apply(lambda row: ord(row.common) - 96  if ord(row.common) > 90 else ord(row.common) - 38, axis=1)\n",
    "df['priority'].sum()"
   ]
  },
  {
   "cell_type": "code",
   "execution_count": null,
   "id": "7e043a08",
   "metadata": {},
   "outputs": [],
   "source": []
  }
 ],
 "metadata": {
  "kernelspec": {
   "display_name": "Python 3 (ipykernel)",
   "language": "python",
   "name": "python3"
  },
  "language_info": {
   "codemirror_mode": {
    "name": "ipython",
    "version": 3
   },
   "file_extension": ".py",
   "mimetype": "text/x-python",
   "name": "python",
   "nbconvert_exporter": "python",
   "pygments_lexer": "ipython3",
   "version": "3.10.6"
  }
 },
 "nbformat": 4,
 "nbformat_minor": 5
}
