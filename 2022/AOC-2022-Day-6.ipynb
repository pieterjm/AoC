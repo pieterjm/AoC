{
 "cells": [
  {
   "cell_type": "markdown",
   "id": "6b3d1c72",
   "metadata": {},
   "source": [
    "# Advent of Code 2022 Day 1"
   ]
  },
  {
   "cell_type": "code",
   "execution_count": 10,
   "id": "cca20616",
   "metadata": {},
   "outputs": [
    {
     "name": "stdout",
     "output_type": "stream",
     "text": [
      "1100\n"
     ]
    }
   ],
   "source": [
    "input = open(\"inputDay6.dat\", \"r\").read() \n",
    "c = 0\n",
    "while len(set(input[c:c+4])) != 4:\n",
    "    c += 1\n",
    "print(c+4)"
   ]
  },
  {
   "cell_type": "code",
   "execution_count": null,
   "id": "03537c01",
   "metadata": {},
   "outputs": [],
   "source": [
    "## p"
   ]
  },
  {
   "cell_type": "code",
   "execution_count": 12,
   "id": "18604d6f",
   "metadata": {},
   "outputs": [
    {
     "name": "stdout",
     "output_type": "stream",
     "text": [
      "2421\n"
     ]
    }
   ],
   "source": [
    "input = open(\"inputDay6.dat\", \"r\").read() \n",
    "c = 0\n",
    "while len(set(input[c:c+14])) != 14:\n",
    "    c += 1\n",
    "print(c+14)"
   ]
  },
  {
   "cell_type": "code",
   "execution_count": null,
   "id": "e2de03fc",
   "metadata": {},
   "outputs": [],
   "source": []
  },
  {
   "cell_type": "code",
   "execution_count": null,
   "id": "9ceb5c1f",
   "metadata": {},
   "outputs": [],
   "source": []
  }
 ],
 "metadata": {
  "kernelspec": {
   "display_name": "Python 3 (ipykernel)",
   "language": "python",
   "name": "python3"
  },
  "language_info": {
   "codemirror_mode": {
    "name": "ipython",
    "version": 3
   },
   "file_extension": ".py",
   "mimetype": "text/x-python",
   "name": "python",
   "nbconvert_exporter": "python",
   "pygments_lexer": "ipython3",
   "version": "3.10.6"
  }
 },
 "nbformat": 4,
 "nbformat_minor": 5
}
