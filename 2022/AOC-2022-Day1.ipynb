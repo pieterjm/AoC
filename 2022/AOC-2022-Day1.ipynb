{
 "cells": [
  {
   "cell_type": "markdown",
   "id": "0b1bc8cb",
   "metadata": {},
   "source": [
    "# Advent of Code"
   ]
  },
  {
   "cell_type": "markdown",
   "id": "a99d3416",
   "metadata": {},
   "source": [
    "Solution for part 1 of Day 1"
   ]
  },
  {
   "cell_type": "code",
   "execution_count": 59,
   "id": "1e781cfe",
   "metadata": {},
   "outputs": [
    {
     "data": {
      "text/plain": [
       "68292.0"
      ]
     },
     "execution_count": 59,
     "metadata": {},
     "output_type": "execute_result"
    }
   ],
   "source": [
    "import pandas as pd\n",
    "df=pd.read_csv('inputDay1.dat', sep=',', names=['input'], header=None, skip_blank_lines=False)\n",
    "df.input.cumsum()[df.input.shift(-1).isnull()].diff().max()\n",
    "\n"
   ]
  },
  {
   "cell_type": "markdown",
   "id": "fc63c996",
   "metadata": {},
   "source": [
    "Solution for part 2 of Day 1"
   ]
  },
  {
   "cell_type": "code",
   "execution_count": 71,
   "id": "6cd3dd16",
   "metadata": {},
   "outputs": [
    {
     "name": "stdout",
     "output_type": "stream",
     "text": [
      "203203.0\n"
     ]
    }
   ],
   "source": [
    "import pandas as pd\n",
    "df=pd.read_csv('inputDay1.dat', sep=',', names=['input'], header=None, skip_blank_lines=False)\n",
    "result = df.input.cumsum()[df.input.shift(-1).isnull()].diff().sort_values(ascending=False).head(3).sum()\n",
    "print(result)\n"
   ]
  },
  {
   "cell_type": "code",
   "execution_count": null,
   "id": "0adb4042",
   "metadata": {},
   "outputs": [],
   "source": []
  }
 ],
 "metadata": {
  "kernelspec": {
   "display_name": "Python 3 (ipykernel)",
   "language": "python",
   "name": "python3"
  },
  "language_info": {
   "codemirror_mode": {
    "name": "ipython",
    "version": 3
   },
   "file_extension": ".py",
   "mimetype": "text/x-python",
   "name": "python",
   "nbconvert_exporter": "python",
   "pygments_lexer": "ipython3",
   "version": "3.10.6"
  }
 },
 "nbformat": 4,
 "nbformat_minor": 5
}
