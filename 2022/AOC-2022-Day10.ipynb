{
 "cells": [
  {
   "cell_type": "markdown",
   "id": "dd67d25b",
   "metadata": {},
   "source": [
    "# Advent of Code 2022 - Day 10\n",
    "\n",
    "## part 1\n"
   ]
  },
  {
   "cell_type": "code",
   "execution_count": 50,
   "id": "82f441d4",
   "metadata": {},
   "outputs": [
    {
     "name": "stdout",
     "output_type": "stream",
     "text": [
      "14520\n"
     ]
    }
   ],
   "source": [
    "import pandas as pd\n",
    "import numpy as np\n",
    "df=pd.read_csv('inputDay10.dat', sep=' ', names=['cmd','arg'], header=None, skip_blank_lines=True)\n",
    "\n",
    "cycle = 0\n",
    "x = 1\n",
    "\n",
    "result = 0\n",
    "\n",
    "def check():\n",
    "    global result, cycle, x\n",
    "    if ( cycle - 20 ) % 40 == 0:\n",
    "        result += cycle * x\n",
    "\n",
    "def execcmd(row):\n",
    "    global cycle, x\n",
    "    if row['cmd'] == 'addx':\n",
    "        cycle += 1        \n",
    "        check()        \n",
    "        cycle += 1\n",
    "        check()\n",
    "        x += row['arg']        \n",
    "    elif row['cmd'] == 'noop':\n",
    "        cycle += 1        \n",
    "        check()\n",
    "    else:\n",
    "        print(\"Hi santa!\")\n",
    "        \n",
    "df.apply(execcmd,axis=1)\n",
    "print(int(result))"
   ]
  },
  {
   "cell_type": "markdown",
   "id": "82fc64e2",
   "metadata": {},
   "source": [
    "## part 2"
   ]
  },
  {
   "cell_type": "code",
   "execution_count": 51,
   "id": "dfe24bda",
   "metadata": {},
   "outputs": [
    {
     "name": "stdout",
     "output_type": "stream",
     "text": [
      "###..####.###...##..####.####...##.###..\n",
      "#..#....#.#..#.#..#....#.#.......#.#..#.\n",
      "#..#...#..###..#......#..###.....#.###..\n",
      "###...#...#..#.#.##..#...#.......#.#..#.\n",
      "#....#....#..#.#..#.#....#....#..#.#..#.\n",
      "#....####.###...###.####.####..##..###..\n"
     ]
    }
   ],
   "source": [
    "import pandas as pd\n",
    "import numpy as np\n",
    "df=pd.read_csv('inputDay10.dat', sep=' ', names=['cmd','arg'], header=None, skip_blank_lines=True)\n",
    "\n",
    "cycle = 0\n",
    "x = 1\n",
    "crt = list(240 * '.')\n",
    "crtp = 0\n",
    "\n",
    "\n",
    "def check():    \n",
    "    global crt, cycle, x\n",
    "    crtp = (cycle - 1) % 40    \n",
    "    if (( crtp == x - 1 )or(crtp == x)or(crtp == x + 1)):\n",
    "        crt[cycle - 1] = '#'    \n",
    "\n",
    "def execcmd(row):\n",
    "    global cycle, x\n",
    "    if row['cmd'] == 'addx':\n",
    "        cycle += 1        \n",
    "        check()        \n",
    "        cycle += 1\n",
    "        check()\n",
    "        x += row['arg']        \n",
    "    elif row['cmd'] == 'noop':\n",
    "        cycle += 1        \n",
    "        check()\n",
    "    else:\n",
    "        print(\"Hi santa!\")\n",
    "        \n",
    "df.apply(execcmd,axis=1)\n",
    "print(''.join(crt[0:40]))\n",
    "print(''.join(crt[40:80]))\n",
    "print(''.join(crt[80:120]))\n",
    "print(''.join(crt[120:160]))\n",
    "print(''.join(crt[160:200]))\n",
    "print(''.join(crt[200:240]))\n"
   ]
  },
  {
   "cell_type": "code",
   "execution_count": null,
   "id": "6d22069c",
   "metadata": {},
   "outputs": [],
   "source": []
  }
 ],
 "metadata": {
  "kernelspec": {
   "display_name": "Python 3 (ipykernel)",
   "language": "python",
   "name": "python3"
  },
  "language_info": {
   "codemirror_mode": {
    "name": "ipython",
    "version": 3
   },
   "file_extension": ".py",
   "mimetype": "text/x-python",
   "name": "python",
   "nbconvert_exporter": "python",
   "pygments_lexer": "ipython3",
   "version": "3.10.6"
  }
 },
 "nbformat": 4,
 "nbformat_minor": 5
}
