{
 "cells": [
  {
   "cell_type": "markdown",
   "id": "ca4e8d3d",
   "metadata": {},
   "source": [
    "# Advent of Code 2022 Day 11\n",
    "\n",
    "## Common stuff"
   ]
  },
  {
   "cell_type": "code",
   "execution_count": 270,
   "id": "4fc6262a",
   "metadata": {},
   "outputs": [],
   "source": [
    "import pandas as pd\n",
    "import numpy as np\n",
    "import re\n",
    "\n",
    "class Packet:\n",
    "    def __init__(self, monkeyid, value):\n",
    "        self.monkeyid = monkeyid\n",
    "        self.value = value\n",
    "        \n",
    "class Monkey:\n",
    "    def __init__(self, id):\n",
    "        self.id = id\n",
    "        self.op = \"\"\n",
    "        self.val = \"\"\n",
    "        self.test = None\n",
    "        self.false = None\n",
    "        self.true = None\n",
    "        self.inspect = 0\n",
    "                \n",
    "    def setOperation(self, op, val):\n",
    "        self.op = op\n",
    "        self.val = val\n",
    "        \n",
    "    def setTest(self, test):\n",
    "        self.test = test\n",
    "        \n",
    "    def setFalse(self, i):\n",
    "        self.false = i\n",
    "    \n",
    "    def setTrue(self, i):\n",
    "        self.true = i\n",
    "        \n",
    "    def round(self, divide):\n",
    "        global packets,c \n",
    "        \n",
    "        for p in range(len(packets)):\n",
    "            \n",
    "            if ( packets[p].monkeyid == self.id ):            \n",
    "                self.inspect += 1\n",
    "\n",
    "                # do the operation\n",
    "                if self.op == '*':\n",
    "                    if self.val == 'old':\n",
    "                        packets[p].value = packets[p].value * packets[p].value\n",
    "                    else:\n",
    "                        packets[p].value = packets[p].value * int(self.val)\n",
    "\n",
    "                elif self.op == '+':\n",
    "                    if self.val == 'old':\n",
    "                        packets[p].value = packets[p].value + packets[p].value\n",
    "                    else:\n",
    "                        packets[p].value = packets[p].value + int(self.val)\n",
    "            \n",
    "                # divide by three is enabled, otherwise by the test dividers multiplied\n",
    "                if ( divide == True):\n",
    "                    packets[p].value = int(packets[p].value / 3)\n",
    "                else:\n",
    "                    packets[p].value = packets[p].value % multest\n",
    "                    \n",
    "            \n",
    "                # do the test, and throw to other monkey\n",
    "                if ( packets[p].value % self.test == 0 ):\n",
    "                    packets[p].monkeyid = self.true\n",
    "                else:\n",
    "                    packets[p].monkeyid = self.false\n",
    "                \n",
    "                \n",
    "                \n",
    "        \n",
    "def parse(row):\n",
    "    global monkeyid, monkeys, packets, multest\n",
    "    \n",
    "    # Check for new monkey\n",
    "    m = re.match(\"Monkey (\\d+)\\:\",row)\n",
    "    if ( m ):\n",
    "        monkeyid = int(m.groups()[0])\n",
    "        monkeys[monkeyid] = Monkey(monkeyid)\n",
    "        return\n",
    "\n",
    "    # Check starting items\n",
    "    m = re.match(\"Starting items\\: (.*)$\",row)\n",
    "    if ( m ):\n",
    "        for i in m.groups()[0].split(','):\n",
    "            packets.append(Packet(monkeyid, int(i)))\n",
    "        return\n",
    "    \n",
    "    # add operation\n",
    "    m = re.match(\"Operation\\: new = old (\\*|\\+) (\\d+|old)\",row)\n",
    "    if ( m ):\n",
    "        monkeys[monkeyid].setOperation(m.groups()[0],m.groups()[1])\n",
    "        return\n",
    "    \n",
    "    # test\n",
    "    m = re.match(\"Test\\: divisible by (\\d+)\",row)\n",
    "    if ( m ):\n",
    "        monkeys[monkeyid].setTest(int(m.groups()[0]))\n",
    "        multest = multest * int(m.groups()[0])\n",
    "        return\n",
    "    \n",
    "    # if true\n",
    "    m = re.search(\"If true\\: throw to monkey (\\d+)\",row)\n",
    "    if ( m ):\n",
    "        monkeys[monkeyid].setTrue(int(m.groups()[0]))\n",
    "        return\n",
    "\n",
    "    # if false\n",
    "    m = re.search(\"If false\\: throw to monkey (\\d+)\",row)\n",
    "    if ( m ):\n",
    "        monkeys[monkeyid].setFalse(int(m.groups()[0]))\n",
    "        return\n",
    "\n",
    "    print(\"Hi santa! '\" + row + \"'\")\n",
    "        \n",
    " \n",
    "def round(divide):\n",
    "    for m in monkeys:\n",
    "        monkeys[m].round(divide)\n"
   ]
  },
  {
   "cell_type": "markdown",
   "id": "70158fbb",
   "metadata": {},
   "source": [
    "## Part 1"
   ]
  },
  {
   "cell_type": "code",
   "execution_count": 271,
   "id": "7dfe063a",
   "metadata": {},
   "outputs": [
    {
     "name": "stdout",
     "output_type": "stream",
     "text": [
      "120756\n"
     ]
    }
   ],
   "source": [
    "df=pd.read_csv('inputDay11.dat', names=['input'], sep='dshjgdshjg', header=None, skip_blank_lines=True).squeeze()\n",
    "\n",
    "monkeys = {}\n",
    "packets = []\n",
    "multest = 1\n",
    "\n",
    "df.apply(parse)\n",
    "for r in range(20):\n",
    "    round(True)\n",
    "\n",
    "inspects = []\n",
    "for id in monkeys:\n",
    "    inspects.append(monkeys[id].inspect)\n",
    "    \n",
    "inspects.sort(reverse=True)\n",
    "print(inspects[0] * inspects[1])\n"
   ]
  },
  {
   "cell_type": "markdown",
   "id": "b7474939",
   "metadata": {},
   "source": [
    "## Part 2"
   ]
  },
  {
   "cell_type": "code",
   "execution_count": 272,
   "id": "46430823",
   "metadata": {},
   "outputs": [
    {
     "name": "stdout",
     "output_type": "stream",
     "text": [
      "39109444654\n"
     ]
    }
   ],
   "source": [
    "df=pd.read_csv('inputDay11.dat', names=['input'], sep='dshjgdshjg', header=None, skip_blank_lines=True).squeeze()\n",
    "\n",
    "multest = 1\n",
    "monkeys = {}\n",
    "packets = []\n",
    "\n",
    "df.apply(parse)\n",
    "\n",
    "for s in range(10000):    \n",
    "    round(False)\n",
    "\n",
    "inspects = []\n",
    "for id in monkeys:\n",
    "    inspects.append(monkeys[id].inspect)\n",
    "inspects.sort(reverse=True)\n",
    "print(inspects[0] * inspects[1])\n"
   ]
  }
 ],
 "metadata": {
  "kernelspec": {
   "display_name": "Python 3 (ipykernel)",
   "language": "python",
   "name": "python3"
  },
  "language_info": {
   "codemirror_mode": {
    "name": "ipython",
    "version": 3
   },
   "file_extension": ".py",
   "mimetype": "text/x-python",
   "name": "python",
   "nbconvert_exporter": "python",
   "pygments_lexer": "ipython3",
   "version": "3.10.6"
  }
 },
 "nbformat": 4,
 "nbformat_minor": 5
}
