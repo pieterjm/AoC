{
 "cells": [
  {
   "cell_type": "markdown",
   "id": "c6bcbd07",
   "metadata": {},
   "source": [
    "## Advent of Code 2022 - Day 12\n",
    "\n",
    "## Part 1\n",
    "\n"
   ]
  },
  {
   "cell_type": "code",
   "execution_count": 36,
   "id": "546d4983",
   "metadata": {},
   "outputs": [
    {
     "name": "stdout",
     "output_type": "stream",
     "text": [
      "517\n"
     ]
    }
   ],
   "source": [
    "# load grid\n",
    "grid = []\n",
    "for line in open('inputDay12.dat', 'r').readlines():\n",
    "    grid.append(list(line.rstrip()))\n",
    "\n",
    "# determine size of the grid\n",
    "height = len(grid)\n",
    "width = len(grid[0])\n",
    "    \n",
    "# find position of start and end and convert height to number \n",
    "startpos = None\n",
    "endpos = None\n",
    "for i in range(height):\n",
    "    for j in range(width):\n",
    "        if grid[i][j] == 'S':\n",
    "            startpos = [i,j]\n",
    "            grid[i][j] = 'a'\n",
    "        elif grid[i][j] == 'E':\n",
    "            endpos = [i,j]\n",
    "            grid[i][j] = 'z'\n",
    "        grid[i][j] = ord(grid[i][j]) - ord('a')\n",
    "\n",
    "# initialise a new grid where each cell contains the distance of the cell to S\n",
    "dgrid = []\n",
    "for h in range(height):\n",
    "    dgrid.append([10000] * width)\n",
    "dgrid[startpos[0]][startpos[1]] = 0\n",
    "\n",
    "# search algorithm, create a list of items to search\n",
    "searchlist = []\n",
    "searchlist.append(startpos)\n",
    "\n",
    "while len(searchlist) > 0:\n",
    "    pos = searchlist.pop(0)\n",
    "\n",
    "    # check the neighbours of pos\n",
    "    for dir in [[pos[0],pos[1]-1],[pos[0],pos[1]+1],[pos[0]-1,pos[1]],[pos[0]+1,pos[1]]]:            \n",
    "        # check that we are in the grid\n",
    "        # can make a step grid[pos] + 1 >= grid[dir] \n",
    "        # and dgrid[pos] + 1 < dgrid[dir] \n",
    "        if (dir[0] >= 0 and dir[0] < height and dir[1] >= 0 and dir[1] < width) and ((grid[pos[0]][pos[1]] + 1) >= grid[dir[0]][dir[1]]) and ((dgrid[pos[0]][pos[1]] + 1) < dgrid[dir[0]][dir[1]]):\n",
    "            dgrid[dir[0]][dir[1]] = dgrid[pos[0]][pos[1]] + 1\n",
    "            # add the new point to the searchlist\n",
    "            searchlist.append(dir)\n",
    "\n",
    "print(dgrid[endpos[0]][endpos[1]])"
   ]
  },
  {
   "cell_type": "markdown",
   "id": "f5b1a5d2",
   "metadata": {},
   "source": [
    "## Part 2"
   ]
  },
  {
   "cell_type": "code",
   "execution_count": 37,
   "id": "8673bf90",
   "metadata": {},
   "outputs": [
    {
     "name": "stdout",
     "output_type": "stream",
     "text": [
      "512\n"
     ]
    }
   ],
   "source": [
    "# load grid\n",
    "grid = []\n",
    "for line in open('inputDay12.dat', 'r').readlines():\n",
    "    grid.append(list(line.rstrip()))\n",
    "\n",
    "# determine size of the grid\n",
    "height = len(grid)\n",
    "width = len(grid[0])\n",
    "    \n",
    "# find position of start and end and convert height to number \n",
    "startpos = None\n",
    "endpos = None\n",
    "for i in range(height):\n",
    "    for j in range(width):\n",
    "        if grid[i][j] == 'S':\n",
    "            startpos = [i,j]\n",
    "            grid[i][j] = 'a'\n",
    "        elif grid[i][j] == 'E':\n",
    "            endpos = [i,j]\n",
    "            grid[i][j] = 'z'\n",
    "        grid[i][j] = ord(grid[i][j]) - ord('a')\n",
    "\n",
    "# initialise a new grid where each cell contains the distance of the cell to E\n",
    "# For part 2 we start at position E and calculate all distances to the other points in the grid\n",
    "dgrid = []\n",
    "for h in range(height):\n",
    "    dgrid.append([10000] * width)\n",
    "dgrid[endpos[0]][endpos[1]] = 0\n",
    "\n",
    "# search algorithm, create a list of items to search\n",
    "searchlist = []\n",
    "searchlist.append(endpos)\n",
    "\n",
    "while len(searchlist) > 0:\n",
    "    pos = searchlist.pop(0)\n",
    "\n",
    "    # check the neighbours of pos\n",
    "    for dir in [[pos[0],pos[1]-1],[pos[0],pos[1]+1],[pos[0]-1,pos[1]],[pos[0]+1,pos[1]]]:            \n",
    "        # check that we are in the grid\n",
    "        # can make a step grid[pos] <= grid[dir] + 1 (we are walking back) \n",
    "        # and dgrid[pos] + 1 < dgrid[dir] \n",
    "        if (dir[0] >= 0 and dir[0] < height and dir[1] >= 0 and dir[1] < width):\n",
    "            if (grid[pos[0]][pos[1]] <= (grid[dir[0]][dir[1]] + 1)):\n",
    "                if ((dgrid[pos[0]][pos[1]] + 1) < dgrid[dir[0]][dir[1]]):\n",
    "                    dgrid[dir[0]][dir[1]] = dgrid[pos[0]][pos[1]] + 1\n",
    "                    # add the new point to the searchlist\n",
    "                    searchlist.append(dir)\n",
    "\n",
    "# check which of the 'a' points has the lowest distance to 'E'\n",
    "mindist = 10000                    \n",
    "for h in range(height):\n",
    "    for w in range(width):\n",
    "        if grid[h][w] == 0 and dgrid[h][w] < mindist:\n",
    "            mindist = dgrid[h][w]\n",
    "print(mindist)"
   ]
  },
  {
   "cell_type": "code",
   "execution_count": null,
   "id": "7287392b",
   "metadata": {},
   "outputs": [],
   "source": []
  }
 ],
 "metadata": {
  "kernelspec": {
   "display_name": "Python 3 (ipykernel)",
   "language": "python",
   "name": "python3"
  },
  "language_info": {
   "codemirror_mode": {
    "name": "ipython",
    "version": 3
   },
   "file_extension": ".py",
   "mimetype": "text/x-python",
   "name": "python",
   "nbconvert_exporter": "python",
   "pygments_lexer": "ipython3",
   "version": "3.10.6"
  }
 },
 "nbformat": 4,
 "nbformat_minor": 5
}
