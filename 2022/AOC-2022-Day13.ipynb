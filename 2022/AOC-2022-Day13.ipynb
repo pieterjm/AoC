{
 "cells": [
  {
   "cell_type": "markdown",
   "id": "56c73558",
   "metadata": {},
   "source": [
    "# Advent of Code 2022 - Day 13\n",
    "\n",
    "## Shared function"
   ]
  },
  {
   "cell_type": "code",
   "execution_count": 112,
   "id": "7c053933",
   "metadata": {},
   "outputs": [],
   "source": [
    "import ast\n",
    "import functools\n",
    "\n",
    "# comparison function, returns 1 if left < right, -1 if left > right, 0 otherwise\n",
    "def compare(left, right):\n",
    "    ll = len(left)\n",
    "    lr = len(right)\n",
    "    \n",
    "    i = 0\n",
    "    while True:    \n",
    "        if i == ll and i == lr:\n",
    "            return 0\n",
    "        if i == ll:\n",
    "            return 1\n",
    "        if i == lr:\n",
    "            return -1\n",
    "        \n",
    "        if isinstance(left[i],int) and isinstance(right[i],int):\n",
    "            if left[i] < right[i]:\n",
    "                result = 1\n",
    "            elif left[i] > right[i]:\n",
    "                result = -1\n",
    "            else:\n",
    "                result = 0\n",
    "        elif isinstance(left[i],int) and isinstance(right[i],list):\n",
    "            result = compare([left[i]],right[i])\n",
    "        elif isinstance(left[i],list) and isinstance(right[i],int):\n",
    "            result = compare(left[i],[right[i]])\n",
    "        elif isinstance(left[i],list) and isinstance(right[i],list):\n",
    "            result = compare(left[i],right[i])\n",
    "                  \n",
    "        if result != 0:\n",
    "            return result\n",
    "        i += 1\n",
    "       \n",
    "\n"
   ]
  },
  {
   "cell_type": "markdown",
   "id": "930680cc",
   "metadata": {},
   "source": [
    "## Part 1"
   ]
  },
  {
   "cell_type": "code",
   "execution_count": 113,
   "id": "8e2a3ea9",
   "metadata": {},
   "outputs": [
    {
     "name": "stdout",
     "output_type": "stream",
     "text": [
      "5196\n"
     ]
    }
   ],
   "source": [
    "file = open(\"inputDay13.dat\",\"r\")\n",
    "\n",
    "packets = []\n",
    "while True:\n",
    "    line = file.readline()\n",
    "    if not line:\n",
    "        break\n",
    "    if len(line) > 1:\n",
    "        packets.append(ast.literal_eval(line))\n",
    "result = 0\n",
    "for i in range(0,len(packets),2):\n",
    "    if compare(packets[i],packets[i+1]) == 1:\n",
    "        result += ((i/2)+1)\n",
    "print(int(result))"
   ]
  },
  {
   "cell_type": "markdown",
   "id": "30c725a5",
   "metadata": {},
   "source": [
    "## Part 2"
   ]
  },
  {
   "cell_type": "code",
   "execution_count": 114,
   "id": "9a519364",
   "metadata": {},
   "outputs": [
    {
     "name": "stdout",
     "output_type": "stream",
     "text": [
      "22134\n"
     ]
    }
   ],
   "source": [
    "file = open(\"inputDay13.dat\",\"r\")\n",
    "packets = []\n",
    "while True:\n",
    "    line = file.readline()\n",
    "    if not line:\n",
    "        break\n",
    "    if len(line) > 1:\n",
    "        packets.append(ast.literal_eval(line))\n",
    "packets.append([[2]])\n",
    "packets.append([[6]])\n",
    "\n",
    "packets = sorted(packets,key=functools.cmp_to_key(compare),reverse=True)\n",
    "\n",
    "divider2 = 0\n",
    "divider6 = 0\n",
    "for i in range(len(packets)):\n",
    "    if packets[i] == [[2]]:\n",
    "        divider2 = i + 1\n",
    "    if packets[i] == [[6]]:\n",
    "        divider6 = i + 1\n",
    "print(divider2 * divider6)"
   ]
  }
 ],
 "metadata": {
  "kernelspec": {
   "display_name": "Python 3 (ipykernel)",
   "language": "python",
   "name": "python3"
  },
  "language_info": {
   "codemirror_mode": {
    "name": "ipython",
    "version": 3
   },
   "file_extension": ".py",
   "mimetype": "text/x-python",
   "name": "python",
   "nbconvert_exporter": "python",
   "pygments_lexer": "ipython3",
   "version": "3.10.6"
  }
 },
 "nbformat": 4,
 "nbformat_minor": 5
}
