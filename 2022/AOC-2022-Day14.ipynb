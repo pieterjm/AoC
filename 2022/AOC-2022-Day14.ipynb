{
 "cells": [
  {
   "cell_type": "markdown",
   "id": "cc471585",
   "metadata": {},
   "source": [
    "# Advent of Code 2022 - Day 14\n",
    "\n",
    "## Shared functions"
   ]
  },
  {
   "cell_type": "code",
   "execution_count": 127,
   "id": "6c27c06b",
   "metadata": {},
   "outputs": [],
   "source": [
    "# draw rock as a line\n",
    "def rock_in_grid(c1,c2):\n",
    "    global grid,min0,min1\n",
    "    for i in range(min(c1[0],c2[0]),max(c1[0],c2[0]) + 1):\n",
    "        for j in range(min(c1[1],c2[1]),max(c1[1],c2[1]) + 1):\n",
    "            grid[i - min0][j - min1] = '#'\n",
    "\n",
    "# let sand fall\n",
    "def sand():\n",
    "    global grid, mini, minj, height, width\n",
    "    \n",
    "    pos = [500 - min0,0 - min1]\n",
    "    if grid[pos[0]][pos[1]] != '.':\n",
    "        return False\n",
    "    \n",
    "    while True:\n",
    "        if pos[1] + 1 >= height:\n",
    "            return False\n",
    "        grid[pos[0]][pos[1]] = '+'\n",
    "        \n",
    "        if grid[pos[0]][pos[1] + 1] == '.':\n",
    "            grid[pos[0]][pos[1]] = '.'\n",
    "            grid[pos[0]][pos[1] + 1] = '+'\n",
    "            pos[1] = pos[1] + 1\n",
    "        elif grid[pos[0] - 1][pos[1] + 1] == '.':\n",
    "            grid[pos[0]][pos[1]] = '.'\n",
    "            grid[pos[0] - 1][pos[1] + 1] = '+'\n",
    "            pos[0] = pos[0] - 1\n",
    "            pos[1] = pos[1] + 1\n",
    "        elif grid[pos[0] + 1][pos[1] + 1] == '.':\n",
    "            grid[pos[0]][pos[1]] = '.'\n",
    "            grid[pos[0] + 1][pos[1] + 1] = '+'\n",
    "            pos[0] = pos[0] + 1\n",
    "            pos[1] = pos[1] + 1\n",
    "        else:\n",
    "            return True\n",
    "        \n",
    "# print the grid        \n",
    "def print_grid():\n",
    "    for j in range(height):\n",
    "        line = \"\"\n",
    "        for i in range(width):\n",
    "            line += grid[i][j]\n",
    "        print(line)\n",
    "        \n",
    "# read the grid from file        \n",
    "def load_rocks(filename):\n",
    "    global rocks\n",
    "    file = open(filename,'r')\n",
    "    rocks = []\n",
    "    while True:\n",
    "        line = file.readline()\n",
    "        if not line:\n",
    "            break\n",
    "\n",
    "        values = line.rstrip().split(\" -> \")    \n",
    "        for i in range(len(values)):\n",
    "            values[i] = values[i].split(',')\n",
    "        \n",
    "            for d in range(2):\n",
    "                values[i][d] = int(values[i][d])\n",
    "            \n",
    "        rocks.append(values)\n",
    "\n",
    "    "
   ]
  },
  {
   "cell_type": "markdown",
   "id": "b1d67c8b",
   "metadata": {},
   "source": [
    "## Solution for part 1"
   ]
  },
  {
   "cell_type": "code",
   "execution_count": 130,
   "id": "335219e1",
   "metadata": {},
   "outputs": [
    {
     "name": "stdout",
     "output_type": "stream",
     "text": [
      "795\n"
     ]
    }
   ],
   "source": [
    "rocks = []\n",
    "load_rocks('inputDay14.dat')\n",
    "\n",
    "# determine min and max of the grid, and include the drop point\n",
    "minc = [500,0]\n",
    "maxc = [500,0]\n",
    "for rock in rocks:\n",
    "    for c in rock:\n",
    "        for d in range(2):\n",
    "            minc[d] = min(minc[d],c[d])\n",
    "            maxc[d] = max(maxc[d],c[d])\n",
    "\n",
    "# create an empty grid with size\n",
    "grid = []\n",
    "width = maxc[0] + 10 - minc[0]\n",
    "height = maxc[1] + 8 - minc[1]\n",
    "for i in range(width):\n",
    "    grid.append(['.'] * (height))\n",
    "min0 = minc[0] - 5\n",
    "min1 = minc[1] - 5\n",
    "\n",
    "# place the rocks        \n",
    "for rock in rocks:\n",
    "    for i in range(len(rock) - 1):\n",
    "        rock_in_grid(rock[i],rock[i+1])\n",
    "        \n",
    "# let sand fall\n",
    "sand_count = 0\n",
    "while True:\n",
    "    if sand() == False:\n",
    "        break\n",
    "    sand_count += 1\n",
    "print(sand_count)\n"
   ]
  },
  {
   "cell_type": "markdown",
   "id": "e38f6181",
   "metadata": {},
   "source": [
    "## Solution for part 2"
   ]
  },
  {
   "cell_type": "code",
   "execution_count": 129,
   "id": "857e5bd5",
   "metadata": {},
   "outputs": [
    {
     "name": "stdout",
     "output_type": "stream",
     "text": [
      "30214\n"
     ]
    }
   ],
   "source": [
    "rocks = []\n",
    "load_rocks('inputDay14.dat')\n",
    "\n",
    "# determine min and max of the grid, and include the drop point\n",
    "minc = [500,0]\n",
    "maxc = [500,0]\n",
    "for rock in rocks:\n",
    "    for c in rock:\n",
    "        for d in range(2):\n",
    "            minc[d] = min(minc[d],c[d])\n",
    "            maxc[d] = max(maxc[d],c[d])\n",
    "\n",
    "# create an empty grid with size\n",
    "grid = []\n",
    "width = maxc[0] + 1000 - minc[0]\n",
    "height = maxc[1] + 8 - minc[1]\n",
    "for i in range(width):\n",
    "    grid.append(['.'] * (height))\n",
    "min0 = minc[0] - 500\n",
    "min1 = minc[1] - 5\n",
    "\n",
    "# add the floor\n",
    "for i in range(width):\n",
    "    grid[i][maxc[1] - min1 + 2] = '#'\n",
    "\n",
    "# place the rocks        \n",
    "for rock in rocks:\n",
    "    for i in range(len(rock) - 1):\n",
    "        rock_in_grid(rock[i],rock[i+1])\n",
    "        \n",
    "# let sand fall\n",
    "sand_count = 0\n",
    "while True:\n",
    "    if sand() == False:\n",
    "        break\n",
    "    sand_count += 1\n",
    "print(sand_count)\n",
    "\n",
    "\n"
   ]
  },
  {
   "cell_type": "code",
   "execution_count": null,
   "id": "f9749da6",
   "metadata": {},
   "outputs": [],
   "source": []
  },
  {
   "cell_type": "code",
   "execution_count": null,
   "id": "78b4eb37",
   "metadata": {},
   "outputs": [],
   "source": []
  }
 ],
 "metadata": {
  "kernelspec": {
   "display_name": "Python 3 (ipykernel)",
   "language": "python",
   "name": "python3"
  },
  "language_info": {
   "codemirror_mode": {
    "name": "ipython",
    "version": 3
   },
   "file_extension": ".py",
   "mimetype": "text/x-python",
   "name": "python",
   "nbconvert_exporter": "python",
   "pygments_lexer": "ipython3",
   "version": "3.10.6"
  }
 },
 "nbformat": 4,
 "nbformat_minor": 5
}
