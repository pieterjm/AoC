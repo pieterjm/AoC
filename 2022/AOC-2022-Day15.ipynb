{
 "cells": [
  {
   "cell_type": "markdown",
   "id": "ccac0559",
   "metadata": {},
   "source": [
    "# Advent of Code 2022 - Day 15\n",
    "\n",
    "## Shared functions"
   ]
  },
  {
   "cell_type": "code",
   "execution_count": 10,
   "id": "b4ac0721",
   "metadata": {
    "scrolled": false
   },
   "outputs": [],
   "source": [
    "import pandas as pd\n",
    "\n",
    "def distance(xa,ya,xb,yb):\n",
    "    return abs(xa-xb) + abs(ya-yb)\n",
    "\n",
    "def doit(row):\n",
    "    global yrow, rs    \n",
    "    bdist = distance(row.x,row.y,row.bx,row.by)\n",
    "    bdist -= abs(row.y - yrow)\n",
    "    if ( bdist > 0 ):\n",
    "        xl = row.x - bdist\n",
    "        xr = row.x + bdist    \n",
    "        rs.append([xl,xr])\n",
    "            \n",
    "    b = [row.bx, row.by]\n",
    "    if b not in beacons:\n",
    "        beacons.append(b)\n",
    "    \n",
    "def fitrange(r):\n",
    "    global rs\n",
    "    for i in range(len(rs)):\n",
    "        if r[0] < rs[i][0] and r[1] > rs[i][1]:\n",
    "            rs[i][0] = r[0]\n",
    "            rs[i][1] = r[1] \n",
    "            return\n",
    "        if r[0] < rs[i][0] and r[1] >= (rs[i][0]-1):\n",
    "            rs[i][0] = r[0]\n",
    "            return\n",
    "        if r[0] <= (rs[i][1]+1) and r[1] > rs[i][1]:\n",
    "            rs[i][1] = r[1]\n",
    "            return\n",
    "        if r[0] >= rs[i][0] and r[1] <= rs[i][1]:\n",
    "            return        \n",
    "    rs.append(r)\n",
    "    \n",
    "\n",
    "        \n"
   ]
  },
  {
   "cell_type": "markdown",
   "id": "c8c18daa",
   "metadata": {},
   "source": [
    "## Part 1"
   ]
  },
  {
   "cell_type": "code",
   "execution_count": 11,
   "id": "a9a29031",
   "metadata": {},
   "outputs": [
    {
     "name": "stdout",
     "output_type": "stream",
     "text": [
      "5040643\n"
     ]
    }
   ],
   "source": [
    "df = pd.read_csv('inputDay15.dat',sep='[\\ ,\\:\\=]',header=None, skip_blank_lines=True).drop([0,1,2,4,5,7,8,9,10,11,12,14,15],axis=1)\n",
    "df.columns=['x','y','bx','by']\n",
    "df.head()\n",
    "\n",
    "rs = []\n",
    "beacons = []\n",
    "\n",
    "yrow = 2000000\n",
    "    \n",
    "df.apply(doit,axis=1)\n",
    "for i in range(30):\n",
    "    r = rs.pop(0)\n",
    "    fitrange(r)\n",
    "    if ( len(rs) == 1 ):\n",
    "        break\n",
    "        \n",
    "sum = 0\n",
    "for r in rs:\n",
    "    sum += 1 + r[1] - r[0]\n",
    "\n",
    "for b in beacons:\n",
    "    if b[1] == yrow:\n",
    "        for r in rs:\n",
    "            if b[0] >= r[0] and b[1] <= r[1]:\n",
    "                sum -= 1\n",
    "print(sum)  "
   ]
  },
  {
   "cell_type": "markdown",
   "id": "7e5fc8f2",
   "metadata": {},
   "source": [
    "## Part 2"
   ]
  },
  {
   "cell_type": "code",
   "execution_count": 12,
   "id": "96852ca9",
   "metadata": {},
   "outputs": [
    {
     "name": "stdout",
     "output_type": "stream",
     "text": [
      "11016575214126\n"
     ]
    }
   ],
   "source": [
    "df = pd.read_csv('inputDay15.dat',sep='[\\ ,\\:\\=]',header=None, skip_blank_lines=True).drop([0,1,2,4,5,7,8,9,10,11,12,14,15],axis=1)\n",
    "df.columns=['x','y','bx','by']\n",
    "df.head()\n",
    "\n",
    "rs = []\n",
    "beacons = []\n",
    "\n",
    "# combine all the ranges\n",
    "for yrow in range(0,4000000): # Scanning this range will take a while!\n",
    "    rs = []\n",
    "    beacons = []    \n",
    "    df.apply(doit,axis=1)\n",
    "    for i in range(30):\n",
    "        r = rs.pop(0)\n",
    "        fitrange(r)\n",
    "        if ( len(rs) == 1 ):\n",
    "            break\n",
    "        \n",
    "    sum = 0\n",
    "    for r in rs:\n",
    "        sum += 1 + r[1] - r[0]\n",
    "\n",
    "    for b in beacons:\n",
    "        if b[1] == yrow:\n",
    "            for r in rs:\n",
    "                if b[0] >= r[0] and b[1] <= r[1]:\n",
    "                    sum -= 1\n",
    "                    \n",
    "    if rs[0][0] < 0:                \n",
    "        rs[0][0] = 0\n",
    "    if rs[-1][1] > 4000000:\n",
    "        rs[-1][1] = 4000000\n",
    "    if len(rs) > 1:\n",
    "        x = rs[0][1] + 1\n",
    "        print(yrow + x * 4000000)\n",
    "        break"
   ]
  },
  {
   "cell_type": "code",
   "execution_count": null,
   "id": "cdd9049a",
   "metadata": {},
   "outputs": [],
   "source": []
  },
  {
   "cell_type": "code",
   "execution_count": null,
   "id": "a9a57814",
   "metadata": {},
   "outputs": [],
   "source": []
  }
 ],
 "metadata": {
  "kernelspec": {
   "display_name": "Python 3 (ipykernel)",
   "language": "python",
   "name": "python3"
  },
  "language_info": {
   "codemirror_mode": {
    "name": "ipython",
    "version": 3
   },
   "file_extension": ".py",
   "mimetype": "text/x-python",
   "name": "python",
   "nbconvert_exporter": "python",
   "pygments_lexer": "ipython3",
   "version": "3.10.6"
  }
 },
 "nbformat": 4,
 "nbformat_minor": 5
}
