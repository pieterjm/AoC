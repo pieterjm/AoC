{
 "cells": [
  {
   "cell_type": "markdown",
   "id": "bd2ee241",
   "metadata": {},
   "source": [
    " # Advent of Code 2022, Day 2\n",
    "  * First Column\n",
    "    * A = Rock\n",
    "    * B = Paper\n",
    "    * C = Scissors\n",
    "  * Second column\n",
    "    * X = Rock \n",
    "    * Y = Paper \n",
    "    * Z = Scissors\n",
    "  * Score\n",
    "    * Rock = 1\n",
    "    * Paper = 2\n",
    "    * Scissors = 3\n",
    "  * Outcome \n",
    "    * Lost = 0\n",
    "    * Draw = 3\n",
    "    * Won = 6\n",
    "\n",
    "Waarheidstabel\n",
    "  \n",
    "| Elf | You | Score |\n",
    "|-----|-----|-------|\n",
    "|A    |X    |1 + 3 = 4 |\n",
    "|A    |Y    |2 + 6 = 8 |\n",
    "|A    |Z    |3 + 0 = 3 |\n",
    "|B    |X    |1 + 0 = 1 |\n",
    "|B    |Y    |2 + 3 = 5 |\n",
    "|B    |Z    |3 + 6 = 9 |\n",
    "|C    |X    |1 + 6 = 7 |\n",
    "|C    |Y    |2 + 0 = 2 |\n",
    "|C    |Z    |3 + 3 = 6 |\n",
    "\n",
    "  \n"
   ]
  },
  {
   "cell_type": "code",
   "execution_count": 11,
   "id": "4336eb11",
   "metadata": {},
   "outputs": [
    {
     "data": {
      "text/plain": [
       "13009"
      ]
     },
     "execution_count": 11,
     "metadata": {},
     "output_type": "execute_result"
    }
   ],
   "source": [
    "# solution for part 1\n",
    "import pandas as pd\n",
    "df=pd.read_csv('inputDay2.dat', sep=' ', names=['Elf','You'], header=None, skip_blank_lines=True)\n",
    "scoreData = {'A':{'X': 4,'Y':8,'Z':3},'B':{'X':1,'Y':5,'Z':9},'C':{'X':7,'Y':2,'Z':6}}\n",
    "df.apply (lambda row: scoreData[row['Elf']][row['You']], axis=1).sum()\n"
   ]
  },
  {
   "cell_type": "markdown",
   "id": "970eab58",
   "metadata": {},
   "source": [
    "# Part 2\n",
    "\n",
    "The second columns is the desired result\n",
    "\n",
    "  * X = Lose\n",
    "  * Y = Draw \n",
    "  * Z = Win\n",
    "    \n",
    "Waarheidstabel wordt nu \n",
    "\n",
    "| Elf | Result | You | Result |\n",
    "|-----|--------|-----|--------|\n",
    "|A    |X       | Z   | 3+0    |\n",
    "|A    |Y       | X   | 1+3    |\n",
    "|A    |Z       | Y   | 2+6    |\n",
    "|B    |X       | X   | 1+0    |\n",
    "|B    |Y       | Y   | 2+3    |\n",
    "|B    |Z       | Z   | 3+6    |\n",
    "|C    |X       | Y   | 2+0    |\n",
    "|C    |Y       | Z   | 3+3    |\n",
    "|C    |Z       | X   | 1+6    |"
   ]
  },
  {
   "cell_type": "code",
   "execution_count": 12,
   "id": "1f4a8ea2",
   "metadata": {},
   "outputs": [
    {
     "data": {
      "text/plain": [
       "10398"
      ]
     },
     "execution_count": 12,
     "metadata": {},
     "output_type": "execute_result"
    }
   ],
   "source": [
    "import pandas as pd\n",
    "df=pd.read_csv('inputDay2.dat', sep=' ', names=['Elf','You'], header=None, skip_blank_lines=True)\n",
    "scoreData = {'A':{'X': 3,'Y':4,'Z':8},'B':{'X':1,'Y':5,'Z':9},'C':{'X':2,'Y':6,'Z':7}}\n",
    "df.apply (lambda row: scoreData[row['Elf']][row['You']], axis=1).sum()"
   ]
  },
  {
   "cell_type": "code",
   "execution_count": null,
   "id": "64dd358c",
   "metadata": {},
   "outputs": [],
   "source": []
  }
 ],
 "metadata": {
  "kernelspec": {
   "display_name": "Python 3 (ipykernel)",
   "language": "python",
   "name": "python3"
  },
  "language_info": {
   "codemirror_mode": {
    "name": "ipython",
    "version": 3
   },
   "file_extension": ".py",
   "mimetype": "text/x-python",
   "name": "python",
   "nbconvert_exporter": "python",
   "pygments_lexer": "ipython3",
   "version": "3.10.6"
  }
 },
 "nbformat": 4,
 "nbformat_minor": 5
}
