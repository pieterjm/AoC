{
 "cells": [
  {
   "cell_type": "markdown",
   "id": "bd2ee241",
   "metadata": {},
   "source": [
    " # Advent of Code 2022, Day 4\n",
    " \n",
    " ## Part 1\n"
   ]
  },
  {
   "cell_type": "code",
   "execution_count": 92,
   "id": "4336eb11",
   "metadata": {},
   "outputs": [
    {
     "data": {
      "text/plain": [
       "605"
      ]
     },
     "execution_count": 92,
     "metadata": {},
     "output_type": "execute_result"
    }
   ],
   "source": [
    "# solution for part 1\n",
    "import pandas as pd\n",
    "df=pd.read_csv('inputDay4.dat', sep=',', names=['A','B'], header=None, skip_blank_lines=True)\n",
    "df[['minA','maxA']] = df['A'].str.split('-',expand=True).astype('int')\n",
    "df[['minB','maxB']] = df['B'].str.split('-',expand=True).astype('int')\n",
    "df['result'] = df.apply (lambda row: ((row['minA'] <= row['minB']) and (row['maxA'] >= row['maxB'])) or ((row['minB'] <= row['minA']) and (row['maxB'] >= row['maxA'])),axis=1)\n",
    "df[df['result'] == True]['result'].count()"
   ]
  },
  {
   "cell_type": "markdown",
   "id": "970eab58",
   "metadata": {},
   "source": [
    "## Part 2\n"
   ]
  },
  {
   "cell_type": "code",
   "execution_count": 94,
   "id": "1f4a8ea2",
   "metadata": {},
   "outputs": [
    {
     "data": {
      "text/plain": [
       "914"
      ]
     },
     "execution_count": 94,
     "metadata": {},
     "output_type": "execute_result"
    }
   ],
   "source": [
    "# solution for part 1\n",
    "import pandas as pd\n",
    "df=pd.read_csv('inputDay4.dat', sep=',', names=['A','B'], header=None, skip_blank_lines=True)\n",
    "df[['minA','maxA']] = df['A'].str.split('-',expand=True).astype('int')\n",
    "df[['minB','maxB']] = df['B'].str.split('-',expand=True).astype('int')\n",
    "df['result'] = df.apply (lambda row: ((row['minA'] <= row['minB']) and (row['maxA'] >= row['minB'])) or ((row['minB'] <= row['minA']) and (row['maxB'] >= row['minA'])),axis=1)\n",
    "df[df['result'] == True]['result'].count()"
   ]
  },
  {
   "cell_type": "code",
   "execution_count": null,
   "id": "7e043a08",
   "metadata": {},
   "outputs": [],
   "source": []
  }
 ],
 "metadata": {
  "kernelspec": {
   "display_name": "Python 3 (ipykernel)",
   "language": "python",
   "name": "python3"
  },
  "language_info": {
   "codemirror_mode": {
    "name": "ipython",
    "version": 3
   },
   "file_extension": ".py",
   "mimetype": "text/x-python",
   "name": "python",
   "nbconvert_exporter": "python",
   "pygments_lexer": "ipython3",
   "version": "3.10.6"
  }
 },
 "nbformat": 4,
 "nbformat_minor": 5
}
