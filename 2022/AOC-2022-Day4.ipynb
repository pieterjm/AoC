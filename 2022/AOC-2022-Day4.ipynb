{
 "cells": [
  {
   "cell_type": "markdown",
   "id": "bd2ee241",
   "metadata": {},
   "source": [
    " # Advent of Code 2022, Day 4\n",
    " \n",
    " ## Part 1\n"
   ]
  },
  {
   "cell_type": "code",
   "execution_count": 2,
   "id": "4336eb11",
   "metadata": {},
   "outputs": [
    {
     "data": {
      "text/plain": [
       "605"
      ]
     },
     "execution_count": 2,
     "metadata": {},
     "output_type": "execute_result"
    }
   ],
   "source": [
    "import pandas as pd\n",
    "df=pd.read_csv('inputDay4.dat', sep=',|-', names=['minA','maxA','minB','maxB'], header=None, skip_blank_lines=True)\n",
    "((df['minA']<=df['minB'])&(df['maxA']>=df['maxB'])|(df['minB']<=df['minA'])&(df['maxB']>=df['maxA'])).sum()"
   ]
  },
  {
   "cell_type": "markdown",
   "id": "970eab58",
   "metadata": {},
   "source": [
    "## Part 2\n"
   ]
  },
  {
   "cell_type": "code",
   "execution_count": 3,
   "id": "1f4a8ea2",
   "metadata": {},
   "outputs": [
    {
     "data": {
      "text/plain": [
       "914"
      ]
     },
     "execution_count": 3,
     "metadata": {},
     "output_type": "execute_result"
    }
   ],
   "source": [
    "import pandas as pd\n",
    "df=pd.read_csv('inputDay4.dat', sep=',|-', names=['minA','maxA','minB','maxB'], header=None, skip_blank_lines=True)\n",
    "((df['minA']<=df['minB'])&(df['maxA']>=df['minB'])|(df['minB']<=df['minA'])&(df['maxB']>=df['minA'])).sum()"
   ]
  },
  {
   "cell_type": "code",
   "execution_count": null,
   "id": "7e043a08",
   "metadata": {},
   "outputs": [],
   "source": []
  }
 ],
 "metadata": {
  "kernelspec": {
   "display_name": "Python 3 (ipykernel)",
   "language": "python",
   "name": "python3"
  },
  "language_info": {
   "codemirror_mode": {
    "name": "ipython",
    "version": 3
   },
   "file_extension": ".py",
   "mimetype": "text/x-python",
   "name": "python",
   "nbconvert_exporter": "python",
   "pygments_lexer": "ipython3",
   "version": "3.10.6"
  }
 },
 "nbformat": 4,
 "nbformat_minor": 5
}
