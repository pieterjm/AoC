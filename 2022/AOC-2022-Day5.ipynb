{
 "cells": [
  {
   "cell_type": "markdown",
   "id": "1ee6bb42",
   "metadata": {},
   "source": [
    "# Advent of Code 2022 - Day 5\n"
   ]
  },
  {
   "cell_type": "code",
   "execution_count": 121,
   "id": "927961d7",
   "metadata": {},
   "outputs": [
    {
     "data": {
      "text/plain": [
       "'JRVNHHCSJ'"
      ]
     },
     "execution_count": 121,
     "metadata": {},
     "output_type": "execute_result"
    }
   ],
   "source": [
    "import pandas as pd\n",
    "import numpy as np\n",
    "df=pd.read_csv('inputDay5.dat', sep=' ',names= ['ignore1','num','ignore2','src','ignore3','dst'], skiprows=9, header=None, skipfooter=0, skip_blank_lines=True).drop(['ignore1','ignore2','ignore3'],axis=1)\n",
    "df2 = pd.read_fwf('inputDay5.dat', colspecs=[(1,2),(5,6),(9,10),(13,14),(17,18),(21,22),(25,26),(29,30),(33,34)], skipfooter=504, header=None)\n",
    "\n",
    "stacks = []\n",
    "for col in df2:\n",
    "    stacks.append(df2[df2[col].notna()][col].tolist())\n",
    "\n",
    "def moveit(row):\n",
    "    for i in range(row.num):\n",
    "        # remove element from row\n",
    "        element = stacks[row.src - 1].pop(0)\n",
    "        # insert element in other stack\n",
    "        stacks[row.dst - 1].insert(0,element)\n",
    "        \n",
    "#stacks\n",
    "df.apply(moveit, axis=1)\n",
    "\n",
    "solution = \"\"\n",
    "for s in stacks:\n",
    "    solution += s.pop(0)\n",
    "solution"
   ]
  },
  {
   "cell_type": "markdown",
   "id": "b44a71fd",
   "metadata": {},
   "source": [
    "# Part 2"
   ]
  },
  {
   "cell_type": "code",
   "execution_count": 125,
   "id": "694d4b44",
   "metadata": {},
   "outputs": [
    {
     "data": {
      "text/plain": [
       "'GNFBSBJLH'"
      ]
     },
     "execution_count": 125,
     "metadata": {},
     "output_type": "execute_result"
    }
   ],
   "source": [
    "import pandas as pd\n",
    "import numpy as np\n",
    "df=pd.read_csv('inputDay5.dat', sep=' ',names= ['ignore1','num','ignore2','src','ignore3','dst'], skiprows=9, header=None, skipfooter=0, skip_blank_lines=True).drop(['ignore1','ignore2','ignore3'],axis=1)\n",
    "df2 = pd.read_fwf('inputDay5.dat', colspecs=[(1,2),(5,6),(9,10),(13,14),(17,18),(21,22),(25,26),(29,30),(33,34)], skipfooter=504, header=None)\n",
    "\n",
    "stacks = []\n",
    "for col in df2:\n",
    "    stacks.append(df2[df2[col].notna()][col].tolist())\n",
    "\n",
    "# move while retaining order\n",
    "def moveit2(row):\n",
    "    elements = []\n",
    "    for i in range(row.num):\n",
    "        # remove element from row\n",
    "        elements.append(stacks[row.src - 1].pop(0))\n",
    "    for element in reversed(elements):\n",
    "        # insert element in other stack\n",
    "        stacks[row.dst - 1].insert(0,element)\n",
    "        \n",
    "#stacks\n",
    "df.apply(moveit2, axis=1)\n",
    "\n",
    "solution = \"\"\n",
    "for s in stacks:\n",
    "    solution += s.pop(0)\n",
    "solution"
   ]
  },
  {
   "cell_type": "code",
   "execution_count": null,
   "id": "763046e8",
   "metadata": {},
   "outputs": [],
   "source": []
  }
 ],
 "metadata": {
  "kernelspec": {
   "display_name": "Python 3 (ipykernel)",
   "language": "python",
   "name": "python3"
  },
  "language_info": {
   "codemirror_mode": {
    "name": "ipython",
    "version": 3
   },
   "file_extension": ".py",
   "mimetype": "text/x-python",
   "name": "python",
   "nbconvert_exporter": "python",
   "pygments_lexer": "ipython3",
   "version": "3.10.6"
  }
 },
 "nbformat": 4,
 "nbformat_minor": 5
}
