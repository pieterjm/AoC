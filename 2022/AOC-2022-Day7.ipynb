{
 "cells": [
  {
   "cell_type": "markdown",
   "id": "523ead1d",
   "metadata": {},
   "source": [
    "# Advent of Code 2022 Day 7\n",
    "\n",
    "## part 1"
   ]
  },
  {
   "cell_type": "code",
   "execution_count": 51,
   "id": "12c16256",
   "metadata": {},
   "outputs": [
    {
     "name": "stdout",
     "output_type": "stream",
     "text": [
      "1444896\n"
     ]
    }
   ],
   "source": [
    "import pandas as pd\n",
    "df=pd.read_csv('inputDay7.dat', header=None, skip_blank_lines=True).squeeze()\n",
    "\n",
    "currentpath = []\n",
    "\n",
    "dirsizes = {}\n",
    "dirsizes[\"/\"] = 0\n",
    "\n",
    "def cli(command):\n",
    "    global currentpath, dirsizes\n",
    "    command = command.split(' ')\n",
    "    if ( command[0] == '$' and command[1] =='cd' and command[2] =='/'):\n",
    "        currentpath = []\n",
    "    elif ( command[0] == '$' and command[1] =='cd' and command[2] =='..'):\n",
    "        currentpath.pop()\n",
    "    elif ( command[0].isdigit() ):\n",
    "        size = int(command[0])\n",
    "\n",
    "        # iterate over all dirs and add filesize to dir size\n",
    "        dir = \"/\"\n",
    "        dirsizes[dir] += size\n",
    "        \n",
    "        for d in currentpath:\n",
    "            dir  += d + \"/\"\n",
    "            \n",
    "            #print(dir)\n",
    "            if dir in dirsizes:\n",
    "                dirsizes[dir] += size\n",
    "            else:\n",
    "                dirsizes[dir] = size\n",
    "                \n",
    "    elif ( command[0] == '$' and command[1] =='cd'):\n",
    "        currentpath.append(command[2])    \n",
    "\n",
    "df.apply(cli)\n",
    "\n",
    "# count the total size of all directories smaller than 100000\n",
    "sum = 0\n",
    "for dir in dirsizes:\n",
    "    if dirsizes[dir] < 100000:\n",
    "        sum += dirsizes[dir]\n",
    "        \n",
    "print(sum)"
   ]
  },
  {
   "cell_type": "markdown",
   "id": "59433456",
   "metadata": {},
   "source": [
    "## part 2"
   ]
  },
  {
   "cell_type": "code",
   "execution_count": 50,
   "id": "8d453b83",
   "metadata": {},
   "outputs": [
    {
     "name": "stdout",
     "output_type": "stream",
     "text": [
      "404395\n"
     ]
    }
   ],
   "source": [
    "import pandas as pd\n",
    "df=pd.read_csv('inputDay7.dat', header=None, skip_blank_lines=True).squeeze()\n",
    "\n",
    "currentpath = []\n",
    "\n",
    "dirsizes = {}\n",
    "dirsizes[\"/\"] = 0\n",
    "\n",
    "def cli(command):\n",
    "    global currentpath, dirsizes\n",
    "    command = command.split(' ')\n",
    "    if ( command[0] == '$' and command[1] =='cd' and command[2] =='/'):\n",
    "        currentpath = []\n",
    "    elif ( command[0] == '$' and command[1] =='cd' and command[2] =='..'):\n",
    "        currentpath.pop()\n",
    "    elif ( command[0].isdigit() ):\n",
    "        size = int(command[0])\n",
    "\n",
    "        # iterate over all dirs and add filesize to dir size\n",
    "        dir = \"/\"\n",
    "        dirsizes[dir] += size\n",
    "        \n",
    "        for d in currentpath:\n",
    "            dir  += d + \"/\"\n",
    "            \n",
    "            #print(dir)\n",
    "            if dir in dirsizes:\n",
    "                dirsizes[dir] += size\n",
    "            else:\n",
    "                dirsizes[dir] = size\n",
    "                \n",
    "    elif ( command[0] == '$' and command[1] =='cd'):\n",
    "        currentpath.append(command[2])    \n",
    "\n",
    "df.apply(cli)\n",
    "\n",
    "# the total amount to delete is the following\n",
    "todelete = 30000000 - (70000000 - dirsizes[\"/\"])\n",
    "\n",
    "# iterate over dirs and find the smallest that is larger (or equal) than todelete\n",
    "mindir = \"/\"\n",
    "for dir in dirsizes:\n",
    "    if dirsizes[dir] >= todelete and dirsizes[dir] < dirsizes[mindir]:\n",
    "        mindir = dir\n",
    "print(dirsizes[mindir])\n",
    "        "
   ]
  },
  {
   "cell_type": "code",
   "execution_count": null,
   "id": "4e103677",
   "metadata": {},
   "outputs": [],
   "source": []
  }
 ],
 "metadata": {
  "kernelspec": {
   "display_name": "Python 3 (ipykernel)",
   "language": "python",
   "name": "python3"
  },
  "language_info": {
   "codemirror_mode": {
    "name": "ipython",
    "version": 3
   },
   "file_extension": ".py",
   "mimetype": "text/x-python",
   "name": "python",
   "nbconvert_exporter": "python",
   "pygments_lexer": "ipython3",
   "version": "3.10.6"
  }
 },
 "nbformat": 4,
 "nbformat_minor": 5
}
