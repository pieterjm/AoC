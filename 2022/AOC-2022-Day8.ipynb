{
 "cells": [
  {
   "cell_type": "markdown",
   "id": "8b9da41e",
   "metadata": {},
   "source": [
    "# Advent of Code 2022 - Day 8\n",
    "\n",
    "## Part 1"
   ]
  },
  {
   "cell_type": "code",
   "execution_count": 66,
   "id": "a316202d",
   "metadata": {},
   "outputs": [
    {
     "name": "stdout",
     "output_type": "stream",
     "text": [
      "1851\n"
     ]
    }
   ],
   "source": [
    "import pandas as pd\n",
    "df=pd.read_csv('inputDay8.dat', names=['input'], header=None, skip_blank_lines=True)\n",
    "df=df['input'].apply(lambda x: pd.Series(list(str(x).rstrip())))\n",
    "     \n",
    "def isvisible(i,j):\n",
    "    global df\n",
    "    leni = len(df)\n",
    "    lenj = len(df.columns)\n",
    "    \n",
    "    bVis = True\n",
    "    for ii in range(i - 1,-1,-1):\n",
    "        if df[ii][j] >= df[i][j]:\n",
    "            bVis = False\n",
    "    if ( bVis == True ):\n",
    "        return 1\n",
    "\n",
    "    bVis = True\n",
    "    for jj in range(j - 1,-1,-1):\n",
    "        if df[i][jj] >= df[i][j]:\n",
    "            bVis = False\n",
    "    if ( bVis == True ):\n",
    "        return 1\n",
    "    \n",
    "    bVis = True\n",
    "    for ii in range(i + 1, leni):\n",
    "        if df[ii][j] >= df[i][j]:\n",
    "            bVis = False\n",
    "    if ( bVis == True ):\n",
    "        return 1\n",
    "    \n",
    "    bVis = True\n",
    "    for jj in range(j + 1, lenj):\n",
    "        if df[i][jj] >= df[i][j]:\n",
    "            bVis = False\n",
    "    if ( bVis == True ):\n",
    "        return 1\n",
    "\n",
    "    \n",
    "    return 0        \n",
    "\n",
    "# iterate over all cells \n",
    "nvisible = 0\n",
    "for i in range(len(df)):\n",
    "    for j in range(len(df.columns)):   \n",
    "        if ( isvisible(i,j) ):\n",
    "            nvisible += isvisible(i,j)\n",
    " \n",
    "        \n",
    "print(nvisible)     "
   ]
  },
  {
   "cell_type": "markdown",
   "id": "0957972b",
   "metadata": {},
   "source": [
    "## Part 2"
   ]
  },
  {
   "cell_type": "code",
   "execution_count": 68,
   "id": "5538c17f",
   "metadata": {},
   "outputs": [
    {
     "name": "stdout",
     "output_type": "stream",
     "text": [
      "574080\n"
     ]
    }
   ],
   "source": [
    "import pandas as pd\n",
    "df=pd.read_csv('inputDay8.dat', names=['input'], header=None, skip_blank_lines=True)\n",
    "df=df['input'].apply(lambda x: pd.Series(list(str(x).rstrip())))\n",
    "     \n",
    "\n",
    "def scenicscore(i,j):\n",
    "    global df\n",
    "    leni = len(df)\n",
    "    lenj = len(df.columns)\n",
    "    \n",
    "    ss_1 = 0\n",
    "    ss_2 = 0\n",
    "    ss_3 = 0\n",
    "    ss_4 = 0\n",
    "    \n",
    "    for ii in range(i - 1,-1,-1):\n",
    "        ss_1 += 1\n",
    "        if df[ii][j] >= df[i][j]:\n",
    "            break;\n",
    "\n",
    "    for jj in range(j - 1,-1,-1):\n",
    "        ss_2 += 1\n",
    "        if df[i][jj] >= df[i][j]:\n",
    "            break;\n",
    "    \n",
    "    for ii in range(i + 1, leni):\n",
    "        ss_3 += 1\n",
    "        if df[ii][j] >= df[i][j]:\n",
    "            break;\n",
    "    \n",
    "    for jj in range(j + 1, lenj):\n",
    "        ss_4 += 1\n",
    "        if df[i][jj] >= df[i][j]:\n",
    "            break;\n",
    "\n",
    "    \n",
    "    return (ss_1 * ss_2 * ss_3 * ss_4)\n",
    "\n",
    "# iterate over all cells, calcalulate score \n",
    "maxscore = 0\n",
    "for i in range(len(df)):\n",
    "    for j in range(len(df.columns)):\n",
    "        ss = scenicscore(i,j)\n",
    "        if ss > maxscore:\n",
    "            maxscore = ss\n",
    "        \n",
    "print(maxscore)"
   ]
  },
  {
   "cell_type": "code",
   "execution_count": null,
   "id": "02be535f",
   "metadata": {},
   "outputs": [],
   "source": []
  },
  {
   "cell_type": "code",
   "execution_count": null,
   "id": "e6033c98",
   "metadata": {},
   "outputs": [],
   "source": []
  }
 ],
 "metadata": {
  "kernelspec": {
   "display_name": "Python 3 (ipykernel)",
   "language": "python",
   "name": "python3"
  },
  "language_info": {
   "codemirror_mode": {
    "name": "ipython",
    "version": 3
   },
   "file_extension": ".py",
   "mimetype": "text/x-python",
   "name": "python",
   "nbconvert_exporter": "python",
   "pygments_lexer": "ipython3",
   "version": "3.10.6"
  }
 },
 "nbformat": 4,
 "nbformat_minor": 5
}
