{
 "cells": [
  {
   "cell_type": "markdown",
   "id": "f8e40817",
   "metadata": {},
   "source": [
    "# Advent of Code 2022 - Day 9\n",
    "\n",
    "## part 1\n",
    "\n",
    "The solution for this challenge is to iterate through all the steps and let the head move the specified number of steps. For step, the tail moves if the distance is equal or larger than 2 on any axis. The movement of the tail is then simply the sign of the difference vector between the tail and the head. The visited positions are recorded in a dictionary. The number of positions is the number of items in this dict."
   ]
  },
  {
   "cell_type": "code",
   "execution_count": 26,
   "id": "3540e7f3",
   "metadata": {},
   "outputs": [
    {
     "name": "stdout",
     "output_type": "stream",
     "text": [
      "6011\n"
     ]
    }
   ],
   "source": [
    "import pandas as pd\n",
    "import numpy as np\n",
    "df=pd.read_csv('inputDay9.dat', sep=' ', names=['dir','steps'], header=None, skip_blank_lines=True)\n",
    "\n",
    "hpos = np.array([0,0])\n",
    "tpos = np.array([0,0])\n",
    "\n",
    "dirs = {\n",
    "    'U':np.array([0,1]),\n",
    "    'D':np.array([0,-1]),\n",
    "    'L':np.array([-1,0]),\n",
    "    'R':np.array([1,0])\n",
    "}\n",
    "\n",
    "tposses = {}\n",
    "\n",
    "def dostep(row):\n",
    "    global hpos, tpos\n",
    "    for s in range(row.steps):\n",
    "        hpos = hpos + dirs[row.dir]\n",
    "        vec = hpos - tpos\n",
    "        if np.max(np.absolute(vec)) >= 2:\n",
    "            tpos = tpos + np.sign(vec)\n",
    "            tposses[str(tpos)] = 1\n",
    "\n",
    "tposses[str(tpos)] = 1\n",
    "df.apply(dostep,axis=1)\n",
    "print(len(tposses))"
   ]
  },
  {
   "cell_type": "markdown",
   "id": "17da4111",
   "metadata": {},
   "source": [
    "## Part 2\n",
    "\n",
    "The solution for part 2 is slightly modified version of that of part 1. Instead of hpos and tpos we have an array of nots (rope) that consists of ten items. The first one the head and the last one the tail.\n",
    "\n",
    "In the dostep function, after the head (element 0 of the rope) is moved, an iteration is added where all knots follow the knot before that as if it were the head. \n",
    "\n",
    "Finnaly, after this iteration, the position of the tail (element -1) is record in the dictionary. "
   ]
  },
  {
   "cell_type": "code",
   "execution_count": 37,
   "id": "2727a68a",
   "metadata": {},
   "outputs": [
    {
     "name": "stdout",
     "output_type": "stream",
     "text": [
      "2419\n"
     ]
    }
   ],
   "source": [
    "import pandas as pd\n",
    "import numpy as np\n",
    "df=pd.read_csv('inputDay9.dat', sep=' ', names=['dir','steps'], header=None, skip_blank_lines=True)\n",
    "\n",
    "rope = [ np.array([0,0]), np.array([0,0]), np.array([0,0]), np.array([0,0]), np.array([0,0]), np.array([0,0]), np.array([0,0]), np.array([0,0]), np.array([0,0]), np.array([0,0])  ]\n",
    "\n",
    "dirs = {\n",
    "    'U':np.array([0,1]),\n",
    "    'D':np.array([0,-1]),\n",
    "    'L':np.array([-1,0]),\n",
    "    'R':np.array([1,0])\n",
    "}\n",
    "        \n",
    "tposses = {}\n",
    "\n",
    "def dostep(row):\n",
    "    global rope\n",
    "    for s in range(row.steps):\n",
    "        rope[0] = rope[0] + dirs[row.dir]\n",
    "        for i in range(1,len(rope)):\n",
    "            vec = rope[i - 1] - rope[i]\n",
    "            if np.max(np.absolute(vec)) >= 2:\n",
    "                rope[i] = rope[i] + np.sign(vec)\n",
    "        tposses[str(rope[-1])] = 1\n",
    "\n",
    "tposses[str(rope[-1])] = 1\n",
    "df.apply(dostep,axis=1)\n",
    "print(len(tposses))"
   ]
  },
  {
   "cell_type": "code",
   "execution_count": null,
   "id": "d3e79635",
   "metadata": {},
   "outputs": [],
   "source": []
  },
  {
   "cell_type": "code",
   "execution_count": null,
   "id": "30011362",
   "metadata": {},
   "outputs": [],
   "source": []
  }
 ],
 "metadata": {
  "kernelspec": {
   "display_name": "Python 3 (ipykernel)",
   "language": "python",
   "name": "python3"
  },
  "language_info": {
   "codemirror_mode": {
    "name": "ipython",
    "version": 3
   },
   "file_extension": ".py",
   "mimetype": "text/x-python",
   "name": "python",
   "nbconvert_exporter": "python",
   "pygments_lexer": "ipython3",
   "version": "3.10.6"
  }
 },
 "nbformat": 4,
 "nbformat_minor": 5
}
